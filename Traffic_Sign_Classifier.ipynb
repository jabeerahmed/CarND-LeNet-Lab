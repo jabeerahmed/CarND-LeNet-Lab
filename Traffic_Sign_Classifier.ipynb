{
 "cells": [
  {
   "cell_type": "markdown",
   "metadata": {},
   "source": [
    "# Self-Driving Car Engineer Nanodegree\n",
    "\n",
    "## Deep Learning\n",
    "\n",
    "## Project: Build a Traffic Sign Recognition Classifier\n",
    "\n",
    "In this notebook, a template is provided for you to implement your functionality in stages, which is required to successfully complete this project. If additional code is required that cannot be included in the notebook, be sure that the Python code is successfully imported and included in your submission if necessary. \n",
    "\n",
    "> **Note**: Once you have completed all of the code implementations, you need to finalize your work by exporting the iPython Notebook as an HTML document. Before exporting the notebook to html, all of the code cells need to have been run so that reviewers can see the final implementation and output. You can then export the notebook by using the menu above and navigating to  \\n\",\n",
    "    \"**File -> Download as -> HTML (.html)**. Include the finished document along with this notebook as your submission. \n",
    "\n",
    "In addition to implementing code, there is a writeup to complete. The writeup should be completed in a separate file, which can be either a markdown file or a pdf document. There is a [write up template](https://github.com/udacity/CarND-Traffic-Sign-Classifier-Project/blob/master/writeup_template.md) that can be used to guide the writing process. Completing the code template and writeup template will cover all of the [rubric points](https://review.udacity.com/#!/rubrics/481/view) for this project.\n",
    "\n",
    "The [rubric](https://review.udacity.com/#!/rubrics/481/view) contains \"Stand Out Suggestions\" for enhancing the project beyond the minimum requirements. The stand out suggestions are optional. If you decide to pursue the \"stand out suggestions\", you can include the code in this Ipython notebook and also discuss the results in the writeup file.\n",
    "\n",
    "\n",
    ">**Note:** Code and Markdown cells can be executed using the **Shift + Enter** keyboard shortcut. In addition, Markdown cells can be edited by typically double-clicking the cell to enter edit mode."
   ]
  },
  {
   "cell_type": "code",
   "execution_count": 1,
   "metadata": {
    "collapsed": false
   },
   "outputs": [
    {
     "name": "stdout",
     "output_type": "stream",
     "text": [
      "ImageClassifier Loaded!!!\n"
     ]
    }
   ],
   "source": [
    "%load_ext autoreload\n",
    "%autoreload 1\n",
    "%aimport ImageClassifier\n",
    "%aimport model_runner\n",
    "%aimport ConvNet\n",
    "%aimport Timer\n",
    "%matplotlib inline"
   ]
  },
  {
   "cell_type": "code",
   "execution_count": 2,
   "metadata": {
    "collapsed": false
   },
   "outputs": [],
   "source": [
    "from ImageClassifier import ImageClassifier as IC\n",
    "from ImageClassifier import ModelTrainer as MT\n",
    "from Timer import Timer\n",
    "from model_runner import *\n",
    "import ConvNet as CNN\n",
    "from matplotlib import pyplot\n",
    "import pandas as pd\n",
    "import os\n",
    "import pickle\n",
    "\n",
    "def loadData(dirpath='traffic-signs-data'):\n",
    "    org  = IC(data_dir=dirpath)\n",
    "    data = DataModifier(org)\n",
    "    return org, data\n",
    "\n",
    "def saveData(org, dirpath):\n",
    "    dirpath = Utils.find_an_empty_dir(dirpath)\n",
    "    print(\"Saving data to: \" + dirpath)\n",
    "    if (os.path.exists(dirpath) == False): os.makedirs(dirpath)\n",
    "    with open(os.path.join(dirpath, 'train.p'), \"wb\") as fp:\n",
    "        pickle.dump(org.train, fp)\n",
    "    with open(os.path.join(dirpath, 'test.p'), \"wb\" ) as fp:\n",
    "        pickle.dump(org.test, fp)\n",
    "    with open(os.path.join(dirpath, 'valid.p'), \"wb\") as fp:\n",
    "        pickle.dump(org.valid, fp)\n",
    "\n",
    "def augmentData(org=None, data=None, save_dir=None, num_total=1000):\n",
    "#     augmentDataSet(data.train)\n",
    "#     augmentDataSet(data.test)\n",
    "    n_train,n_test,n_valid = num_total, np.int(num_total*0.3), np.int(num_total*0.1)\n",
    "    augmentDatasetPerspective(data.train, num_total=n_train, sz=26, delta=3, t_rng=range(-3, 3), perspTrans=True)\n",
    "    augmentDatasetPerspective(data.test,  num_total=n_test , sz=26, delta=3, t_rng=range(-3, 3), perspTrans=True)\n",
    "    augmentDatasetPerspective(data.valid, num_total=n_valid, sz=26, delta=3, t_rng=range(-3, 3), perspTrans=True)\n",
    "    DataModifier.updateDataSet(org, data.train, org.train)\n",
    "    DataModifier.updateDataSet(org, data.test,  org.test)\n",
    "    DataModifier.updateDataSet(org, data.valid, org.valid)    \n",
    "    if (save_dir is not None): saveData(org, save_dir)\n",
    "    return org, data\n",
    "\n",
    "def basicNorm(img):\n",
    "    shape = img.shape\n",
    "    dst = np.float32(img)\n",
    "    if (len(shape) == 2):\n",
    "            p  = dst\n",
    "            p -= p.min()\n",
    "            p /= p.max()        \n",
    "    else:\n",
    "        for i in range(shape[2]): \n",
    "            p  = dst[:, :, i]\n",
    "            p -= p.min()\n",
    "            p /= p.max()\n",
    "\n",
    "    return dst\n",
    "            \n",
    "def visualize(data, setname='train'):\n",
    "    \n",
    "    dataset = data.dmap[setname]\n",
    "    signnames = data.signs\n",
    "    col_width = max(len(name) for name in signnames)\n",
    "    class_counts = data.get_data_dist(setname)\n",
    "    \n",
    "    for c in range(len(signnames)):\n",
    "        X_train = dataset[c]\n",
    "        c_count = len(X_train)\n",
    "        c_index = 0\n",
    "        \n",
    "        print(\"Class %i: %-*s  %s samples\" % (c, col_width, signnames[c], str(c_count)))\n",
    "        fig = pyplot.figure(figsize = (6, 1))\n",
    "        fig.subplots_adjust(left = 0, right = 1, bottom = 0, top = 1, hspace = 0.05, wspace = 0.05)\n",
    "        random_indices = random.sample(range(c_index, c_index + c_count), 10)\n",
    "        for i in range(10):\n",
    "            axis = fig.add_subplot(1, 10, i + 1, xticks=[], yticks=[])\n",
    "            axis.imshow(basicNorm(X_train[random_indices[i]]))\n",
    "                \n",
    "        pyplot.show()\n",
    "        print(\"--------------------------------------------------------------------------------------\\n\")\n",
    "\n",
    "    pyplot.bar( np.arange( 43 ), class_counts, align='center' )\n",
    "    pyplot.xlabel('Class')\n",
    "    pyplot.ylabel('Number of training examples')\n",
    "    pyplot.xlim([-1, 43])\n",
    "    pyplot.show()\n",
    "\n",
    "from pandas import Categorical as cat\n",
    "\n",
    "def pandasData(org, isOrginialSet=False):\n",
    "    n_train, n_test, n_valid = len(org.train['labels']), len(org.test['labels']), len(org.valid['labels'])\n",
    "    train = pd.DataFrame({'label': cat(org.train['labels'], categories=range(org.num_classes)), 'sign': cat(np.take(org.signs, org.train['labels']), categories=org.signs), 'image': list(org.train['features']), 'type': cat(['train'] * n_train, categories=['train', 'test', 'valid']), 'isAugmented': [False] * n_train}, copy=False)\n",
    "    valid = pd.DataFrame({'label': cat(org.valid['labels'], categories=range(org.num_classes)), 'sign': cat(np.take(org.signs, org.valid['labels']), categories=org.signs), 'image': list(org.valid['features']), 'type': cat(['valid'] * n_valid, categories=['train', 'test', 'valid']), 'isAugmented': [False] * n_valid}, copy=False)\n",
    "    test  = pd.DataFrame({'label': cat(org.test ['labels'], categories=range(org.num_classes)), 'sign': cat(np.take(org.signs, org.test ['labels']), categories=org.signs), 'image': list(org.test ['features']), 'type': cat(['test' ] * n_test , categories=['train', 'test', 'valid']), 'isAugmented': [False] * n_test }, copy=False)\n",
    "\n",
    "    train_test_valid_set = pd.Series([train, test, valid], index=['train', 'test', 'valid'], copy=False)\n",
    "    full_set = pd.concat([train, test, valid], ignore_index=True, copy=False)    \n",
    "    class_set = pd.Series([full_set[full_set.label == i] for i in range(org.num_classes)], copy=False)\n",
    "    return full_set, class_set, train_test_valid_set\n",
    "\n"
   ]
  },
  {
   "cell_type": "markdown",
   "metadata": {},
   "source": [
    "---\n",
    "## Step 0: Load The Data"
   ]
  },
  {
   "cell_type": "code",
   "execution_count": 3,
   "metadata": {
    "collapsed": false
   },
   "outputs": [
    {
     "name": "stdout",
     "output_type": "stream",
     "text": [
      "---------------------------------\n",
      "      | Train  | Test   | Valid  |\n",
      "---------------------------------\n",
      " (#)  |  51690 |  17190 |   5630 |\n",
      " (%)  |   1.00 |   0.33 |   0.11 |\n",
      "---------------------------------\n",
      "Number Classes  : 43\n",
      "Image Dimensions: (32, 32, 3)\n",
      "\n",
      "---------------------------------------------------------------\n",
      "elapsed time: 1.936 secs\n",
      "---------------------------------------------------------------\n"
     ]
    }
   ],
   "source": [
    "data_dir = os.path.join(\"aug1K_sz26_d3_rng3_persp\", \"001\")\n",
    "training_file = os.path.join(data_dir, \"train.p\")\n",
    "validation_file = os.path.join(data_dir, \"valid.p\")\n",
    "testing_file = os.path.join(data_dir, \"test.p\")\n",
    "\n",
    "org, data = Timer.run(loadData, args={'dirpath': data_dir})\n",
    "full_set, class_set, ttv_set = pandasData(org)\n"
   ]
  },
  {
   "cell_type": "markdown",
   "metadata": {},
   "source": [
    "---\n",
    "\n",
    "## Step 1: Dataset Summary & Exploration\n",
    "\n",
    "The pickled data is a dictionary with 4 key/value pairs:\n",
    "\n",
    "- `'features'` is a 4D array containing raw pixel data of the traffic sign images, (num examples, width, height, channels).\n",
    "- `'labels'` is a 1D array containing the label/class id of the traffic sign. The file `signnames.csv` contains id -> name mappings for each id.\n",
    "- `'sizes'` is a list containing tuples, (width, height) representing the original width and height the image.\n",
    "- `'coords'` is a list containing tuples, (x1, y1, x2, y2) representing coordinates of a bounding box around the sign in the image. **THESE COORDINATES ASSUME THE ORIGINAL IMAGE. THE PICKLED DATA CONTAINS RESIZED VERSIONS (32 by 32) OF THESE IMAGES**\n",
    "\n",
    "Complete the basic data summary below. Use python, numpy and/or pandas methods to calculate the data summary rather than hard coding the results. For example, the [pandas shape method](http://pandas.pydata.org/pandas-docs/stable/generated/pandas.DataFrame.shape.html) might be useful for calculating some of the summary results. "
   ]
  },
  {
   "cell_type": "markdown",
   "metadata": {},
   "source": [
    "### Provide a Basic Summary of the Data Set Using Python, Numpy and/or Pandas"
   ]
  },
  {
   "cell_type": "code",
   "execution_count": 4,
   "metadata": {
    "collapsed": false
   },
   "outputs": [
    {
     "name": "stdout",
     "output_type": "stream",
     "text": [
      "Number of training examples = 51690\n",
      "Number of testing examples = 17190\n",
      "Image data shape = (32, 32, 3)\n",
      "Number of classes = 43\n"
     ]
    }
   ],
   "source": [
    "### Replace each question mark with the appropriate value. \n",
    "### Use python, pandas or numpy methods rather than hard coding the results\n",
    "\n",
    "# TODO: Number of training examples\n",
    "n_train = len(ttv_set['train'])\n",
    "\n",
    "# TODO: Number of testing examples.\n",
    "n_test = len(ttv_set['test'])\n",
    "\n",
    "# TODO: What's the shape of an traffic sign image?\n",
    "image_shape = full_set.loc[0].image.shape\n",
    "\n",
    "# TODO: How many unique classes/labels there are in the dataset.\n",
    "n_classes = len(full_set.label.unique())\n",
    "\n",
    "print(\"Number of training examples =\", n_train)\n",
    "print(\"Number of testing examples =\", n_test)\n",
    "print(\"Image data shape =\", image_shape)\n",
    "print(\"Number of classes =\", n_classes)"
   ]
  },
  {
   "cell_type": "markdown",
   "metadata": {},
   "source": [
    "### Include an exploratory visualization of the dataset"
   ]
  },
  {
   "cell_type": "markdown",
   "metadata": {},
   "source": [
    "Visualize the German Traffic Signs Dataset using the pickled file(s). This is open ended, suggestions include: plotting traffic sign images, plotting the count of each sign, etc.\n",
    "\n",
    "The [Matplotlib](http://matplotlib.org/) [examples](http://matplotlib.org/examples/index.html) and [gallery](http://matplotlib.org/gallery.html) pages are a great resource for doing visualizations in Python.\n",
    "\n",
    "**NOTE:** It's recommended you start with something simple first. If you wish to do more, come back to it after you've completed the rest of the sections."
   ]
  },
  {
   "cell_type": "code",
   "execution_count": 5,
   "metadata": {
    "collapsed": true
   },
   "outputs": [],
   "source": [
    "### Data exploration visualization code goes here.\n",
    "### Feel free to use as many code cells as needed.\n",
    "import matplotlib.pyplot as plt\n",
    "# Visualizations will be shown in the notebook.\n",
    "%matplotlib inline"
   ]
  },
  {
   "cell_type": "markdown",
   "metadata": {},
   "source": [
    "----\n",
    "\n",
    "## Step 2: Design and Test a Model Architecture\n",
    "\n",
    "Design and implement a deep learning model that learns to recognize traffic signs. Train and test your model on the [German Traffic Sign Dataset](http://benchmark.ini.rub.de/?section=gtsrb&subsection=dataset).\n",
    "\n",
    "The LeNet-5 implementation shown in the [classroom](https://classroom.udacity.com/nanodegrees/nd013/parts/fbf77062-5703-404e-b60c-95b78b2f3f9e/modules/6df7ae49-c61c-4bb2-a23e-6527e69209ec/lessons/601ae704-1035-4287-8b11-e2c2716217ad/concepts/d4aca031-508f-4e0b-b493-e7b706120f81) at the end of the CNN lesson is a solid starting point. You'll have to change the number of classes and possibly the preprocessing, but aside from that it's plug and play! \n",
    "\n",
    "With the LeNet-5 solution from the lecture, you should expect a validation set accuracy of about 0.89. To meet specifications, the validation set accuracy will need to be at least 0.93. It is possible to get an even higher accuracy, but 0.93 is the minimum for a successful project submission. \n",
    "\n",
    "There are various aspects to consider when thinking about this problem:\n",
    "\n",
    "- Neural network architecture (is the network over or underfitting?)\n",
    "- Play around preprocessing techniques (normalization, rgb to grayscale, etc)\n",
    "- Number of examples per label (some have more than others).\n",
    "- Generate fake data.\n",
    "\n",
    "Here is an example of a [published baseline model on this problem](http://yann.lecun.com/exdb/publis/pdf/sermanet-ijcnn-11.pdf). It's not required to be familiar with the approach used in the paper but, it's good practice to try to read papers like these."
   ]
  },
  {
   "cell_type": "markdown",
   "metadata": {},
   "source": [
    "### Pre-process the Data Set (normalization, grayscale, etc.)"
   ]
  },
  {
   "cell_type": "markdown",
   "metadata": {},
   "source": [
    "Use the code cell (or multiple code cells, if necessary) to implement the first step of your project."
   ]
  },
  {
   "cell_type": "code",
   "execution_count": 6,
   "metadata": {
    "collapsed": false,
    "scrolled": true
   },
   "outputs": [],
   "source": [
    "# from IPython import display\n",
    "import time\n",
    "\n",
    "def renderPlot(stats):\n",
    "#     fig, axs = None, None\n",
    "#     fig, axs = figInfo if (figInfo is not None) else plt.subplots()\n",
    "    if (stats is None):   return \n",
    "    if (len(stats) == 0): return \n",
    "    \n",
    "#     val = np.array([stats[i][0] for i in range(len(stats))])\n",
    "#     trn = np.array([stats[i][1] for i in range(len(stats))])\n",
    "    stats = np.array(stats)\n",
    "    val, x, trn = stats[:,0], np.cumsum(stats[:,1]), stats[:,2]\n",
    "    val_unique, val_idx = np.unique(val, return_index=True)\n",
    "#     axs.plot(x, trn, 'r-')\n",
    "#     axs.plot(x, val, 'g-')\n",
    "#     plt.show()\n",
    "    \n",
    "#     display.display(fig)\n",
    "#     display.clear_output(wait=True)\n",
    "#     time.sleep(1.0)\n",
    "\n",
    "#     plt.clf()\n",
    "    plt.plot(x, [0.93]*len(x), 'b--')\n",
    "    plt.plot(x, trn, 'r.-')\n",
    "    plt.plot(x, val, 'g.-')\n",
    "    for v in val_idx: plt.plot([x[v], x[v]], [0, 1.0], 'y--')\n",
    "    plt.grid(True)\n",
    "    plt.ylim((0,1.0))\n",
    "    plt.xlim((0, max(10000, max(x))))\n",
    "#     display.display(plt.gcf())\n",
    "#     display.clear_output(wait=True)\n",
    "    time.sleep(0.5)\n",
    "#     return fig, axs\n",
    "\n",
    "# renderPlot(stats)\n",
    "# %qtconsole"
   ]
  },
  {
   "cell_type": "code",
   "execution_count": 10,
   "metadata": {
    "collapsed": false
   },
   "outputs": [
    {
     "name": "stdout",
     "output_type": "stream",
     "text": [
      "---------------------------------------------------------------\n",
      "elapsed time: 3.709 secs\n",
      "---------------------------------------------------------------\n",
      "Training...\n",
      "\n",
      "EPOCH  1 ...\n",
      "Validation Accuracy = 0.675\n",
      "\n",
      "EPOCH  2 ...\n",
      "Validation Accuracy = 0.773\n",
      "\n",
      "EPOCH  3 ...\n",
      "Validation Accuracy = 0.807\n",
      "\n",
      "EPOCH  4 ...\n",
      "Validation Accuracy = 0.820\n",
      "\n",
      "EPOCH  5 ...\n",
      "Validation Accuracy = 0.835\n",
      "\n",
      "EPOCH  6 ...\n",
      "Validation Accuracy = 0.845\n",
      "\n",
      "EPOCH  7 ...\n",
      "Validation Accuracy = 0.850\n",
      "\n",
      "EPOCH  8 ...\n",
      "Validation Accuracy = 0.838\n",
      "\n",
      "EPOCH  9 ...\n",
      "Validation Accuracy = 0.852\n",
      "\n",
      "EPOCH 10 ...\n",
      "Validation Accuracy = 0.853\n",
      "\n",
      "EPOCH 11 ...\n",
      "Validation Accuracy = 0.857\n",
      "\n",
      "EPOCH 12 ...\n",
      "Validation Accuracy = 0.858\n",
      "\n",
      "EPOCH 13 ...\n",
      "Validation Accuracy = 0.845\n",
      "\n",
      "EPOCH 14 ...\n",
      "Validation Accuracy = 0.867\n",
      "\n",
      "EPOCH 15 ...\n",
      "Validation Accuracy = 0.861\n",
      "\n",
      "EPOCH 16 ...\n",
      "Validation Accuracy = 0.874\n",
      "\n",
      "EPOCH 17 ...\n",
      "Validation Accuracy = 0.864\n",
      "\n",
      "EPOCH 18 ...\n",
      "Validation Accuracy = 0.863\n",
      "\n",
      "EPOCH 19 ...\n",
      "Validation Accuracy = 0.866\n",
      "\n",
      "EPOCH 20 ...\n",
      "Validation Accuracy = 0.867\n",
      "\n",
      "EPOCH 21 ...\n",
      "Validation Accuracy = 0.873\n",
      "\n",
      "EPOCH 22 ...\n",
      "Validation Accuracy = 0.881\n",
      "\n",
      "EPOCH 23 ...\n",
      "Validation Accuracy = 0.877\n",
      "\n",
      "EPOCH 24 ...\n",
      "Validation Accuracy = 0.866\n",
      "\n",
      "EPOCH 25 ...\n",
      "Validation Accuracy = 0.847\n",
      "\n",
      "EPOCH 26 ...\n",
      "Validation Accuracy = 0.879\n",
      "\n",
      "EPOCH 27 ...\n",
      "Validation Accuracy = 0.877\n",
      "\n",
      "EPOCH 28 ...\n",
      "Validation Accuracy = 0.863\n",
      "\n",
      "EPOCH 29 ...\n",
      "Validation Accuracy = 0.874\n",
      "\n",
      "EPOCH 30 ...\n",
      "Validation Accuracy = 0.878\n",
      "\n",
      "EPOCH 31 ...\n",
      "Validation Accuracy = 0.882\n",
      "\n",
      "EPOCH 32 ...\n",
      "Validation Accuracy = 0.882\n",
      "\n",
      "EPOCH 33 ...\n",
      "Validation Accuracy = 0.882\n",
      "\n",
      "EPOCH 34 ...\n",
      "Validation Accuracy = 0.876\n",
      "\n",
      "EPOCH 35 ...\n",
      "Validation Accuracy = 0.880\n",
      "\n",
      "EPOCH 36 ...\n",
      "Validation Accuracy = 0.878\n",
      "\n",
      "EPOCH 37 ...\n",
      "Validation Accuracy = 0.885\n",
      "\n",
      "EPOCH 38 ...\n",
      "Validation Accuracy = 0.872\n",
      "\n",
      "EPOCH 39 ...\n",
      "Validation Accuracy = 0.867\n",
      "\n",
      "EPOCH 40 ...\n",
      "Validation Accuracy = 0.858\n",
      "\n",
      "EPOCH 41 ...\n",
      "Validation Accuracy = 0.877\n",
      "\n",
      "EPOCH 42 ...\n",
      "Validation Accuracy = 0.878\n",
      "\n",
      "EPOCH 43 ...\n",
      "Validation Accuracy = 0.872\n",
      "\n",
      "EPOCH 44 ...\n",
      "Validation Accuracy = 0.852\n",
      "\n",
      "EPOCH 45 ...\n",
      "Validation Accuracy = 0.871\n",
      "\n",
      "EPOCH 46 ...\n",
      "Validation Accuracy = 0.879\n",
      "\n",
      "EPOCH 47 ...\n",
      "Validation Accuracy = 0.877\n",
      "\n",
      "EPOCH 48 ...\n",
      "Validation Accuracy = 0.887\n",
      "\n",
      "EPOCH 49 ...\n",
      "Validation Accuracy = 0.882\n",
      "\n",
      "EPOCH 50 ...\n",
      "Validation Accuracy = 0.891\n",
      "\n",
      "EPOCH 51 ...\n",
      "Validation Accuracy = 0.878\n",
      "\n",
      "EPOCH 52 ...\n",
      "Validation Accuracy = 0.872\n",
      "\n",
      "EPOCH 53 ...\n",
      "Validation Accuracy = 0.883\n",
      "\n",
      "EPOCH 54 ...\n",
      "Validation Accuracy = 0.879\n",
      "\n",
      "EPOCH 55 ...\n",
      "Validation Accuracy = 0.887\n",
      "\n",
      "EPOCH 56 ...\n",
      "Validation Accuracy = 0.870\n",
      "\n",
      "EPOCH 57 ...\n",
      "Validation Accuracy = 0.891\n",
      "\n",
      "EPOCH 58 ...\n",
      "Validation Accuracy = 0.884\n",
      "\n",
      "EPOCH 59 ...\n",
      "Validation Accuracy = 0.864\n",
      "\n",
      "EPOCH 60 ...\n",
      "Validation Accuracy = 0.877\n",
      "\n",
      "EPOCH 61 ...\n",
      "Validation Accuracy = 0.882\n",
      "\n",
      "EPOCH 62 ...\n",
      "Validation Accuracy = 0.872\n",
      "\n",
      "EPOCH 63 ...\n",
      "Validation Accuracy = 0.892\n",
      "\n",
      "EPOCH 64 ...\n",
      "Validation Accuracy = 0.861\n",
      "\n",
      "EPOCH 65 ...\n",
      "Validation Accuracy = 0.882\n",
      "\n",
      "EPOCH 66 ...\n",
      "Validation Accuracy = 0.888\n",
      "\n",
      "EPOCH 67 ...\n",
      "Validation Accuracy = 0.889\n",
      "\n",
      "EPOCH 68 ...\n",
      "Validation Accuracy = 0.892\n",
      "\n",
      "EPOCH 69 ...\n",
      "Validation Accuracy = 0.880\n",
      "\n",
      "EPOCH 70 ...\n",
      "Validation Accuracy = 0.868\n",
      "\n",
      "EPOCH 71 ...\n",
      "Validation Accuracy = 0.893\n",
      "\n",
      "EPOCH 72 ...\n",
      "Validation Accuracy = 0.886\n",
      "\n",
      "EPOCH 73 ...\n",
      "Validation Accuracy = 0.876\n",
      "\n",
      "EPOCH 74 ...\n",
      "Validation Accuracy = 0.876\n",
      "\n",
      "EPOCH 75 ...\n",
      "Validation Accuracy = 0.875\n",
      "\n",
      "EPOCH 76 ...\n",
      "Validation Accuracy = 0.882\n",
      "\n",
      "EPOCH 77 ...\n",
      "Validation Accuracy = 0.874\n",
      "\n",
      "EPOCH 78 ...\n",
      "Validation Accuracy = 0.873\n",
      "\n",
      "EPOCH 79 ...\n",
      "Validation Accuracy = 0.875\n",
      "\n",
      "EPOCH 80 ...\n",
      "Validation Accuracy = 0.868\n",
      "\n",
      "EPOCH 81 ...\n",
      "Validation Accuracy = 0.884\n",
      "\n",
      "EPOCH 82 ...\n",
      "Validation Accuracy = 0.890\n",
      "\n",
      "EPOCH 83 ...\n",
      "Validation Accuracy = 0.886\n",
      "\n",
      "EPOCH 84 ...\n",
      "Validation Accuracy = 0.871\n",
      "\n",
      "EPOCH 85 ...\n",
      "Validation Accuracy = 0.884\n",
      "\n",
      "EPOCH 86 ...\n",
      "Validation Accuracy = 0.864\n",
      "\n",
      "EPOCH 87 ...\n",
      "Validation Accuracy = 0.887\n",
      "\n",
      "EPOCH 88 ...\n",
      "Validation Accuracy = 0.876\n",
      "\n",
      "EPOCH 89 ...\n",
      "Validation Accuracy = 0.889\n",
      "\n",
      "EPOCH 90 ...\n",
      "Validation Accuracy = 0.880\n",
      "\n",
      "EPOCH 91 ...\n",
      "Validation Accuracy = 0.876\n",
      "\n",
      "EPOCH 92 ...\n",
      "Validation Accuracy = 0.894\n",
      "\n",
      "EPOCH 93 ...\n",
      "Validation Accuracy = 0.865\n",
      "\n",
      "EPOCH 94 ...\n",
      "Validation Accuracy = 0.882\n",
      "\n",
      "EPOCH 95 ...\n",
      "Validation Accuracy = 0.882\n",
      "\n",
      "EPOCH 96 ...\n",
      "Validation Accuracy = 0.865\n",
      "\n",
      "EPOCH 97 ...\n",
      "Validation Accuracy = 0.849\n",
      "\n",
      "EPOCH 98 ...\n",
      "Validation Accuracy = 0.874\n",
      "\n",
      "EPOCH 99 ...\n",
      "Validation Accuracy = 0.861\n",
      "\n",
      "EPOCH 100 ...\n",
      "Validation Accuracy = 0.892\n",
      "\n",
      "Model saved : ./004/LeNet\n",
      "---------------------------------------------------------------\n",
      "elapsed time: 45.910 mins\n",
      "---------------------------------------------------------------\n"
     ]
    },
    {
     "data": {
      "image/png": "[encoded data removed]",
      "text/plain": [
       "<matplotlib.figure.Figure at 0x144397fd0>"
      ]
     },
     "metadata": {},
     "output_type": "display_data"
    }
   ],
   "source": [
    "### Preprocess the data here. Preprocessing steps could include normalization, converting to grayscale, etc.\n",
    "### Feel free to use as many code cells as needed.\n",
    "\n",
    "def preprocess(org=None, data=None, pre_ops=[]):\n",
    "    if (len(pre_ops) > 0): org.preprocess_all(pre_ops)\n",
    "    return org, data\n",
    "\n",
    "\n",
    "def Center_1to1(src, i, dst):\n",
    "    dst[i] = (src[i] - 128.0)/128.0\n",
    "\n",
    "kEPOCHS, kBATCH_SIZE, kRATE, kNETWORK, kNETWORK_ARGS = 'EPOCHS', 'BATCH_SIZE', 'RATE', 'NETWORK', 'NETWORK_ARGS'\n",
    "\n",
    "def train(D=None, EPOCHS=10, BATCH_SIZE=128, RATE=0.001, NETWORK=MT.LeNet, NETWORK_ARGS={}):\n",
    "    if D is None: raise Exception('D in None')\n",
    "    T = MT(D.X_train, D.y_train, D.X_test, D.y_test, EPOCHS=EPOCHS, BATCH_SIZE=BATCH_SIZE, rate=RATE, network=NETWORK, network_args=NETWORK_ARGS)\n",
    "    \n",
    "    stats = T.train()\n",
    "    return D, T, stats\n",
    "\n",
    "# pre_ops = [Center_1to1]\n",
    "pre_ops = [IC.Norm, IC.ZMean]\n",
    "org, data = Timer.run(preprocess,  args={'org': org, 'data': data, 'pre_ops':pre_ops})\n",
    "\n",
    "# , 'dropouts':{0: 0.9, 1:0.6}\n",
    "args = {'D': org, 'EPOCHS': 100, 'BATCH_SIZE': 128, 'RATE': 0.002, 'NETWORK': MT.LeNet, 'NETWORK_ARGS': {'sigma':0.001}} \n",
    "\n",
    "org, modl, stats = Timer.run(train, args=args)\n",
    "renderPlot(stats)\n"
   ]
  },
  {
   "cell_type": "markdown",
   "metadata": {},
   "source": [
    "### Model Architecture"
   ]
  },
  {
   "cell_type": "code",
   "execution_count": null,
   "metadata": {
    "collapsed": true
   },
   "outputs": [],
   "source": [
    "### Define your architecture here.\n",
    "### Feel free to use as many code cells as needed."
   ]
  },
  {
   "cell_type": "markdown",
   "metadata": {},
   "source": [
    "### Train, Validate and Test the Model"
   ]
  },
  {
   "cell_type": "markdown",
   "metadata": {},
   "source": [
    "A validation set can be used to assess how well the model is performing. A low accuracy on the training and validation\n",
    "sets imply underfitting. A high accuracy on the training set but low accuracy on the validation set implies overfitting."
   ]
  },
  {
   "cell_type": "code",
   "execution_count": null,
   "metadata": {
    "collapsed": true
   },
   "outputs": [],
   "source": [
    "### Train your model here.\n",
    "### Calculate and report the accuracy on the training and validation set.\n",
    "### Once a final model architecture is selected, \n",
    "### the accuracy on the test set should be calculated and reported as well.\n",
    "### Feel free to use as many code cells as needed."
   ]
  },
  {
   "cell_type": "markdown",
   "metadata": {},
   "source": [
    "---\n",
    "\n",
    "## Step 3: Test a Model on New Images\n",
    "\n",
    "To give yourself more insight into how your model is working, download at least five pictures of German traffic signs from the web and use your model to predict the traffic sign type.\n",
    "\n",
    "You may find `signnames.csv` useful as it contains mappings from the class id (integer) to the actual sign name."
   ]
  },
  {
   "cell_type": "markdown",
   "metadata": {},
   "source": [
    "### Load and Output the Images"
   ]
  },
  {
   "cell_type": "code",
   "execution_count": null,
   "metadata": {
    "collapsed": true
   },
   "outputs": [],
   "source": [
    "### Load the images and plot them here.\n",
    "### Feel free to use as many code cells as needed."
   ]
  },
  {
   "cell_type": "markdown",
   "metadata": {},
   "source": [
    "### Predict the Sign Type for Each Image"
   ]
  },
  {
   "cell_type": "code",
   "execution_count": null,
   "metadata": {
    "collapsed": true
   },
   "outputs": [],
   "source": [
    "### Run the predictions here and use the model to output the prediction for each image.\n",
    "### Make sure to pre-process the images with the same pre-processing pipeline used earlier.\n",
    "### Feel free to use as many code cells as needed."
   ]
  },
  {
   "cell_type": "markdown",
   "metadata": {},
   "source": [
    "### Analyze Performance"
   ]
  },
  {
   "cell_type": "code",
   "execution_count": null,
   "metadata": {
    "collapsed": true
   },
   "outputs": [],
   "source": [
    "### Calculate the accuracy for these 5 new images. \n",
    "### For example, if the model predicted 1 out of 5 signs correctly, it's 20% accurate on these new images."
   ]
  },
  {
   "cell_type": "markdown",
   "metadata": {},
   "source": [
    "### Output Top 5 Softmax Probabilities For Each Image Found on the Web"
   ]
  },
  {
   "cell_type": "markdown",
   "metadata": {},
   "source": [
    "For each of the new images, print out the model's softmax probabilities to show the **certainty** of the model's predictions (limit the output to the top 5 probabilities for each image). [`tf.nn.top_k`](https://www.tensorflow.org/versions/r0.12/api_docs/python/nn.html#top_k) could prove helpful here. \n",
    "\n",
    "The example below demonstrates how tf.nn.top_k can be used to find the top k predictions for each image.\n",
    "\n",
    "`tf.nn.top_k` will return the values and indices (class ids) of the top k predictions. So if k=3, for each sign, it'll return the 3 largest probabilities (out of a possible 43) and the correspoding class ids.\n",
    "\n",
    "Take this numpy array as an example. The values in the array represent predictions. The array contains softmax probabilities for five candidate images with six possible classes. `tk.nn.top_k` is used to choose the three classes with the highest probability:\n",
    "\n",
    "```\n",
    "# (5, 6) array\n",
    "a = np.array([[ 0.24879643,  0.07032244,  0.12641572,  0.34763842,  0.07893497,\n",
    "         0.12789202],\n",
    "       [ 0.28086119,  0.27569815,  0.08594638,  0.0178669 ,  0.18063401,\n",
    "         0.15899337],\n",
    "       [ 0.26076848,  0.23664738,  0.08020603,  0.07001922,  0.1134371 ,\n",
    "         0.23892179],\n",
    "       [ 0.11943333,  0.29198961,  0.02605103,  0.26234032,  0.1351348 ,\n",
    "         0.16505091],\n",
    "       [ 0.09561176,  0.34396535,  0.0643941 ,  0.16240774,  0.24206137,\n",
    "         0.09155967]])\n",
    "```\n",
    "\n",
    "Running it through `sess.run(tf.nn.top_k(tf.constant(a), k=3))` produces:\n",
    "\n",
    "```\n",
    "TopKV2(values=array([[ 0.34763842,  0.24879643,  0.12789202],\n",
    "       [ 0.28086119,  0.27569815,  0.18063401],\n",
    "       [ 0.26076848,  0.23892179,  0.23664738],\n",
    "       [ 0.29198961,  0.26234032,  0.16505091],\n",
    "       [ 0.34396535,  0.24206137,  0.16240774]]), indices=array([[3, 0, 5],\n",
    "       [0, 1, 4],\n",
    "       [0, 5, 1],\n",
    "       [1, 3, 5],\n",
    "       [1, 4, 3]], dtype=int32))\n",
    "```\n",
    "\n",
    "Looking just at the first row we get `[ 0.34763842,  0.24879643,  0.12789202]`, you can confirm these are the 3 largest probabilities in `a`. You'll also notice `[3, 0, 5]` are the corresponding indices."
   ]
  },
  {
   "cell_type": "code",
   "execution_count": null,
   "metadata": {
    "collapsed": true
   },
   "outputs": [],
   "source": [
    "### Print out the top five softmax probabilities for the predictions on the German traffic sign images found on the web. \n",
    "### Feel free to use as many code cells as needed."
   ]
  },
  {
   "cell_type": "markdown",
   "metadata": {},
   "source": [
    "---\n",
    "\n",
    "## Step 4: Visualize the Neural Network's State with Test Images\n",
    "\n",
    " This Section is not required to complete but acts as an additional excersise for understaning the output of a neural network's weights. While neural networks can be a great learning device they are often referred to as a black box. We can understand what the weights of a neural network look like better by plotting their feature maps. After successfully training your neural network you can see what it's feature maps look like by plotting the output of the network's weight layers in response to a test stimuli image. From these plotted feature maps, it's possible to see what characteristics of an image the network finds interesting. For a sign, maybe the inner network feature maps react with high activation to the sign's boundary outline or to the contrast in the sign's painted symbol.\n",
    "\n",
    " Provided for you below is the function code that allows you to get the visualization output of any tensorflow weight layer you want. The inputs to the function should be a stimuli image, one used during training or a new one you provided, and then the tensorflow variable name that represents the layer's state during the training process, for instance if you wanted to see what the [LeNet lab's](https://classroom.udacity.com/nanodegrees/nd013/parts/fbf77062-5703-404e-b60c-95b78b2f3f9e/modules/6df7ae49-c61c-4bb2-a23e-6527e69209ec/lessons/601ae704-1035-4287-8b11-e2c2716217ad/concepts/d4aca031-508f-4e0b-b493-e7b706120f81) feature maps looked like for it's second convolutional layer you could enter conv2 as the tf_activation variable.\n",
    "\n",
    "For an example of what feature map outputs look like, check out NVIDIA's results in their paper [End-to-End Deep Learning for Self-Driving Cars](https://devblogs.nvidia.com/parallelforall/deep-learning-self-driving-cars/) in the section Visualization of internal CNN State. NVIDIA was able to show that their network's inner weights had high activations to road boundary lines by comparing feature maps from an image with a clear path to one without. Try experimenting with a similar test to show that your trained network's weights are looking for interesting features, whether it's looking at differences in feature maps from images with or without a sign, or even what feature maps look like in a trained network vs a completely untrained one on the same sign image.\n",
    "\n",
    "<figure>\n",
    " <img src=\"visualize_cnn.png\" width=\"380\" alt=\"Combined Image\" />\n",
    " <figcaption>\n",
    " <p></p> \n",
    " <p style=\"text-align: center;\"> Your output should look something like this (above)</p> \n",
    " </figcaption>\n",
    "</figure>\n",
    " <p></p> \n"
   ]
  },
  {
   "cell_type": "code",
   "execution_count": null,
   "metadata": {
    "collapsed": true
   },
   "outputs": [],
   "source": [
    "### Visualize your network's feature maps here.\n",
    "### Feel free to use as many code cells as needed.\n",
    "\n",
    "# image_input: the test image being fed into the network to produce the feature maps\n",
    "# tf_activation: should be a tf variable name used during your training procedure that represents the calculated state of a specific weight layer\n",
    "# activation_min/max: can be used to view the activation contrast in more detail, by default matplot sets min and max to the actual min and max values of the output\n",
    "# plt_num: used to plot out multiple different weight feature map sets on the same block, just extend the plt number for each new feature map entry\n",
    "\n",
    "def outputFeatureMap(image_input, tf_activation, activation_min=-1, activation_max=-1 ,plt_num=1):\n",
    "    # Here make sure to preprocess your image_input in a way your network expects\n",
    "    # with size, normalization, ect if needed\n",
    "    # image_input =\n",
    "    # Note: x should be the same name as your network's tensorflow data placeholder variable\n",
    "    # If you get an error tf_activation is not defined it maybe having trouble accessing the variable from inside a function\n",
    "    activation = tf_activation.eval(session=sess,feed_dict={x : image_input})\n",
    "    featuremaps = activation.shape[3]\n",
    "    plt.figure(plt_num, figsize=(15,15))\n",
    "    for featuremap in range(featuremaps):\n",
    "        plt.subplot(6,8, featuremap+1) # sets the number of feature maps to show on each row and column\n",
    "        plt.title('FeatureMap ' + str(featuremap)) # displays the feature map number\n",
    "        if activation_min != -1 & activation_max != -1:\n",
    "            plt.imshow(activation[0,:,:, featuremap], interpolation=\"nearest\", vmin =activation_min, vmax=activation_max, cmap=\"gray\")\n",
    "        elif activation_max != -1:\n",
    "            plt.imshow(activation[0,:,:, featuremap], interpolation=\"nearest\", vmax=activation_max, cmap=\"gray\")\n",
    "        elif activation_min !=-1:\n",
    "            plt.imshow(activation[0,:,:, featuremap], interpolation=\"nearest\", vmin=activation_min, cmap=\"gray\")\n",
    "        else:\n",
    "            plt.imshow(activation[0,:,:, featuremap], interpolation=\"nearest\", cmap=\"gray\")"
   ]
  },
  {
   "cell_type": "markdown",
   "metadata": {},
   "source": [
    "### Question 9\n",
    "\n",
    "Discuss how you used the visual output of your trained network's feature maps to show that it had learned to look for interesting characteristics in traffic sign images\n"
   ]
  },
  {
   "cell_type": "markdown",
   "metadata": {},
   "source": [
    "**Answer:**"
   ]
  },
  {
   "cell_type": "markdown",
   "metadata": {},
   "source": [
    "> **Note**: Once you have completed all of the code implementations and successfully answered each question above, you may finalize your work by exporting the iPython Notebook as an HTML document. You can do this by using the menu above and navigating to  \\n\",\n",
    "    \"**File -> Download as -> HTML (.html)**. Include the finished document along with this notebook as your submission."
   ]
  },
  {
   "cell_type": "markdown",
   "metadata": {},
   "source": [
    "### Project Writeup\n",
    "\n",
    "Once you have completed the code implementation, document your results in a project writeup using this [template](https://github.com/udacity/CarND-Traffic-Sign-Classifier-Project/blob/master/writeup_template.md) as a guide. The writeup can be in a markdown or pdf file. "
   ]
  }
 ],
 "metadata": {
  "anaconda-cloud": {},
  "kernelspec": {
   "display_name": "Python 3",
   "language": "python",
   "name": "python3"
  },
  "language_info": {
   "codemirror_mode": {
    "name": "ipython",
    "version": 3
   },
   "file_extension": ".py",
   "mimetype": "text/x-python",
   "name": "python",
   "nbconvert_exporter": "python",
   "pygments_lexer": "ipython3",
   "version": "3.5.2"
  }
 },
 "nbformat": 4,
 "nbformat_minor": 1
}
